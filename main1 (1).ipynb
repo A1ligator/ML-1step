{
 "cells": [
  {
   "cell_type": "code",
   "execution_count": null,
   "metadata": {},
   "outputs": [],
   "source": [
    "import pandas as pd\n",
    "import numpy as np\n",
    "\n",
    "data = pd.read_csv('data.csv', delimiter=',')"
   ]
  },
  {
   "cell_type": "code",
   "execution_count": null,
   "metadata": {},
   "outputs": [],
   "source": [
    "data.describe()"
   ]
  },
  {
   "cell_type": "code",
   "execution_count": null,
   "metadata": {},
   "outputs": [],
   "source": [
    "# data.head(10)\n",
    "\n",
    "data.tail()"
   ]
  },
  {
   "cell_type": "code",
   "execution_count": null,
   "metadata": {},
   "outputs": [],
   "source": [
    "with open('DataDictionary-ru.txt', 'r', encoding='utf-8') as f:\n",
    "    dictionary = f.read()\n",
    "    \n",
    "data.dtypes"
   ]
  },
  {
   "cell_type": "code",
   "execution_count": null,
   "metadata": {},
   "outputs": [],
   "source": [
    "i = data['MonthlyIncome'].notnull()\n",
    "data.loc[i, 'DebtRatio'] *= data.loc[i, 'MonthlyIncome']                          "
   ]
  },
  {
   "cell_type": "code",
   "execution_count": null,
   "metadata": {},
   "outputs": [],
   "source": [
    "data.rename(columns={'DebtRatio': 'Debt'}, inplace=True)"
   ]
  },
  {
   "cell_type": "code",
   "execution_count": null,
   "metadata": {},
   "outputs": [],
   "source": [
    "# Средний ежемесячный доход\n",
    "mean_income = data['MonthlyIncome'].mean()\n",
    "\n",
    "# Присваивание среднего значения для NaN\n",
    "data['MonthlyIncome'] = data['MonthlyIncome'].fillna(mean_income)"
   ]
  },
  {
   "cell_type": "code",
   "execution_count": null,
   "metadata": {},
   "outputs": [],
   "source": [
    "# Оценка вероятностей невозврата кредита по количеству иждивенцев\n",
    "prob_by_dependents = data['SeriousDlqin2yrs'].groupby(data['NumberOfDependents']).mean()\n",
    "print(prob_by_dependents)\n",
    "\n",
    "# Оценка вероятностей невозврата кредита по количеству займов на недвижимость\n",
    "prob_by_estate = data['SeriousDlqin2yrs'].groupby(data['NumberRealEstateLoansOrLines']).mean()\n",
    "print(prob_by_estate)"
   ]
  },
  {
   "cell_type": "code",
   "execution_count": null,
   "metadata": {},
   "outputs": [],
   "source": [
    "data.head(10)"
   ]
  }
 ],
 "metadata": {
  "kernelspec": {
   "display_name": "Python 3",
   "language": "python",
   "name": "python3"
  },
  "language_info": {
   "codemirror_mode": {
    "name": "ipython",
    "version": 3
   },
   "file_extension": ".py",
   "mimetype": "text/x-python",
   "name": "python",
   "nbconvert_exporter": "python",
   "pygments_lexer": "ipython3",
   "version": "3.12.2"
  }
 },
 "nbformat": 4,
 "nbformat_minor": 2
}
