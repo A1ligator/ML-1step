{
 "cells": [
  {
   "cell_type": "code",
   "execution_count": null,
   "metadata": {},
   "outputs": [],
   "source": [
    "import pandas as pd\n",
    "import matplotlib.pyplot as plt\n",
    "import numpy as np\n",
    "\n",
    "# 1. Загрузка данных\n",
    "data = pd.read_csv('titanic_train.csv')"
   ]
  },
  {
   "cell_type": "code",
   "execution_count": null,
   "metadata": {},
   "outputs": [],
   "source": [
    "# 2. Вывод первых 5 строк\n",
    "print(\"First 5 rows:\")\n",
    "data.head()\n"
   ]
  },
  {
   "cell_type": "code",
   "execution_count": null,
   "metadata": {},
   "outputs": [],
   "source": [
    "# 2. Вывод последних 5 строк\n",
    "print(\"Last 5 rows:\")\n",
    "data.tail()"
   ]
  },
  {
   "cell_type": "code",
   "execution_count": null,
   "metadata": {},
   "outputs": [],
   "source": [
    "# 3. Основная информация о данных\n",
    "print(\"\\nDataset info:\")\n",
    "data.info()"
   ]
  },
  {
   "cell_type": "code",
   "execution_count": null,
   "metadata": {},
   "outputs": [],
   "source": [
    "# 4. Описательные статистики\n",
    "print(\"\\nDescriptive statistics:\")\n",
    "data.describe()"
   ]
  },
  {
   "cell_type": "code",
   "execution_count": null,
   "metadata": {},
   "outputs": [],
   "source": [
    "# 5. Замена пустых значений\n",
    "data.fillna({\n",
    "    'Age': data['Age'].median(),\n",
    "    'Fare': data['Fare'].median()\n",
    "}, inplace=True)\n",
    "data.ffill(inplace=True)"
   ]
  },
  {
   "cell_type": "code",
   "execution_count": null,
   "metadata": {},
   "outputs": [],
   "source": [
    "data.tail(5)"
   ]
  },
  {
   "cell_type": "code",
   "execution_count": null,
   "metadata": {},
   "outputs": [],
   "source": [
    "# 6. Подсчет количества мужчин и женщин на борту\n",
    "sex_counts = data['Sex'].value_counts()\n",
    "print(\"\\nКоличество мужчин и женщин на борту:\")\n",
    "sex_counts"
   ]
  },
  {
   "cell_type": "code",
   "execution_count": null,
   "metadata": {},
   "outputs": [],
   "source": [
    "# 7. Распределение Pclass и распределение для мужчин/женщин\n",
    "pclass_counts = data['Pclass'].value_counts()\n",
    "print(\"\\nРаспределение Pclass:\")\n",
    "print(pclass_counts) \n",
    "print(\"\\nРаспределение Pclass для мужчин и женщин:\")\n",
    "print(data.groupby(['Sex', 'Pclass']).size())\n",
    "men_2nd_class = data[(data['Sex'] == 'male') & (data['Pclass'] == 2)].shape[0]\n",
    "print(\"\\nКоличество мужчин 2-го класса:\", men_2nd_class)"
   ]
  },
  {
   "cell_type": "code",
   "execution_count": null,
   "metadata": {},
   "outputs": [],
   "source": [
    "# 8. Медиана и стандартное отклонение Fare\n",
    "fare_median = round(data['Fare'].median(), 2)\n",
    "fare_std = round(data['Fare'].std(), 2)\n",
    "print(\"\\nМедиана Fare:\", fare_median)\n",
    "print(\"Стандартное отклонение Fare:\", fare_std)"
   ]
  },
  {
   "cell_type": "code",
   "execution_count": null,
   "metadata": {},
   "outputs": [],
   "source": [
    "# 9. Доли выживших среди младше 30 и старше 60 лет\n",
    "young_survival_rate = data[data['Age'] < 30]['Survived'].mean()\n",
    "old_survival_rate = data[data['Age'] > 60]['Survived'].mean()\n",
    "print(\"\\nДоля выживших среди младше 30:\", young_survival_rate)\n",
    "print(\"Доля выживших среди старше 60:\", old_survival_rate)"
   ]
  },
  {
   "cell_type": "code",
   "execution_count": null,
   "metadata": {},
   "outputs": [],
   "source": [
    "# 10. Доли выживших среди мужчин и женщин\n",
    "male_survival_rate = data[data['Sex'] == 'male']['Survived'].mean()\n",
    "female_survival_rate = data[data['Sex'] == 'female']['Survived'].mean()\n",
    "print(\"\\nДоля выживших среди мужчин:\", male_survival_rate)\n",
    "print(\"Доля выживших среди женщин:\", female_survival_rate)"
   ]
  },
  {
   "cell_type": "code",
   "execution_count": null,
   "metadata": {},
   "outputs": [],
   "source": [
    "# 11. Самое популярное имя среди мужчин\n",
    "# Самое популярное имя среди мужчин\n",
    "male_names = data[data['Sex'] == 'male']['Name']\n",
    "most_common_name = male_names.str.split(', ').str[1].str.split(' ').str[1].mode()[0] # разделяем строку по , и пробелам, ищем в ней имена и считаем частоту\n",
    "\n",
    "name_count = male_names.str.split(', ').str[1].str.split(' ').str[1].value_counts()[most_common_name]# количество раз, когда имя встретилось\n",
    "print(\"Самое популярное мужское имя:\", most_common_name)\n",
    "print(\"Количество повторений:\", name_count)\n"
   ]
  },
  {
   "cell_type": "code",
   "execution_count": null,
   "metadata": {},
   "outputs": [],
   "source": [
    "# 12. Сравнение распределения Fare и Age у спасенных и погибших\n",
    "fig, axs = plt.subplots(1, 2, figsize=(12, 4))\n",
    "axs[0].hist(data[data['Survived'] == 1]['Fare'], bins=15, color='red', alpha=0.7, label='Survived')\n",
    "axs[0].hist(data[data['Survived'] == 0]['Fare'], bins=15, color='blue', alpha=0.5, label='Not Survived')\n",
    "axs[0].set_title(\"Распределение Fare для выживших и погибших\")\n",
    "axs[0].legend()\n",
    "\n",
    "axs[1].hist(data[data['Survived'] == 1]['Age'], bins=20, color='red', alpha=0.7, label='Survived')\n",
    "axs[1].hist(data[data['Survived'] == 0]['Age'], bins=20, color='blue', alpha=0.5, label='Not Survived')\n",
    "axs[1].set_title(\"Распределение Age для выживших и погибших\")\n",
    "axs[1].legend()\n",
    "plt.show()"
   ]
  },
  {
   "cell_type": "code",
   "execution_count": null,
   "metadata": {},
   "outputs": [],
   "source": [
    "# 13. Средний возраст мужчин и женщин в зависимости от класса\n",
    "age_by_class_gender = data.groupby(['Pclass', 'Sex'])['Age'].mean()\n",
    "print(\"\\nСредний возраст мужчин и женщин по классам:\")\n",
    "print(age_by_class_gender)\n",
    "\n",
    "# последние два утверждения в файле задания верны"
   ]
  },
  {
   "cell_type": "code",
   "execution_count": null,
   "metadata": {},
   "outputs": [],
   "source": [
    "# 14. Попарные зависимости признаков (scatter_matrix)\n",
    "from pandas.plotting import scatter_matrix\n",
    "scatter_matrix(data[['Age', 'Fare', 'Pclass', 'SibSp', 'Parch']], figsize=(15, 15), alpha=0.6)\n",
    "plt.show()"
   ]
  },
  {
   "cell_type": "code",
   "execution_count": null,
   "metadata": {},
   "outputs": [],
   "source": [
    "# 15. Гистограммы распределения каждого признака\n",
    "data.hist(bins=20, figsize=(15, 10))\n",
    "plt.show()"
   ]
  },
  {
   "cell_type": "code",
   "execution_count": null,
   "metadata": {},
   "outputs": [],
   "source": [
    "# 16. Boxplot Fare по Pclass\n",
    "data.boxplot(column='Fare', by='Pclass')\n",
    "plt.title(\"Зависимость Fare от Pclass\")\n",
    "plt.suptitle('')\n",
    "plt.show()\n",
    "\n",
    "\n"
   ]
  },
  {
   "attachments": {
    "image-2.png": {
     "image/png": "[encoded data removed]"
    }
   },
   "cell_type": "markdown",
   "metadata": {},
   "source": [
    "![image-2.png](attachment:image-2.png)\n",
    "\n",
    "**Медиана** – это значение элемента в центре ранжированного ряда.\n",
    "\n",
    "**Верхний квартиль** – это значение, выше которого только 25% оценок.\n",
    "Нижний квартиль** – это значение, ниже которого только 25% оценок.\n",
    "\n",
    "\n",
    "**Выбросы** – это нетипичные наблюдения"
   ]
  },
  {
   "cell_type": "code",
   "execution_count": null,
   "metadata": {},
   "outputs": [],
   "source": [
    "# 17. Соотношение погибших и выживших по полу\n",
    "data.groupby(['Sex', 'Survived']).size().unstack().plot(kind='bar', stacked=True)\n",
    "plt.title(\"Соотношение выживших и погибших по полу\")\n",
    "plt.show()"
   ]
  },
  {
   "cell_type": "code",
   "execution_count": null,
   "metadata": {},
   "outputs": [],
   "source": [
    "# 18. Соотношение погибших и выживших по классу каюты\n",
    "data.groupby(['Pclass', 'Survived']).size().unstack().plot(kind='bar', stacked=True)\n",
    "plt.title(\"Соотношение выживших и погибших по Pclass\")\n",
    "plt.show()\n"
   ]
  },
  {
   "cell_type": "code",
   "execution_count": null,
   "metadata": {},
   "outputs": [],
   "source": [
    "# 19. Выживаемость в зависимости от возраста\n",
    "plt.hist(data[data['Survived'] == 1]['Age'], bins=20, color='red', alpha=0.7, label='Survived')\n",
    "plt.hist(data[data['Survived'] == 0]['Age'], bins=20, color='blue', alpha=0.5, label='Not Survived')\n",
    "plt.legend()\n",
    "plt.title(\"Выживаемость в зависимости от возраста\")\n",
    "plt.show()"
   ]
  },
  {
   "cell_type": "code",
   "execution_count": null,
   "metadata": {},
   "outputs": [],
   "source": [
    "# 20. График рассеяния Age и Fare для выживших и погибших\n",
    "plt.figure(figsize=(10, 6))\n",
    "plt.scatter(data[data['Survived'] == 0]['Age'], data[data['Survived'] == 0]['Fare'], color='blue', label='Not Survived', alpha=0.5)\n",
    "plt.scatter(data[data['Survived'] == 1]['Age'], data[data['Survived'] == 1]['Fare'], color='red', label='Survived', alpha=0.5)\n",
    "plt.xlabel(\"Age\")\n",
    "plt.ylabel(\"Fare\")\n",
    "plt.legend()\n",
    "plt.title(\"Age vs Fare (выжившие и погибшие)\")\n",
    "plt.show()"
   ]
  }
 ],
 "metadata": {
  "kernelspec": {
   "display_name": "Python 3",
   "language": "python",
   "name": "python3"
  },
  "language_info": {
   "codemirror_mode": {
    "name": "ipython",
    "version": 3
   },
   "file_extension": ".py",
   "mimetype": "text/x-python",
   "name": "python",
   "nbconvert_exporter": "python",
   "pygments_lexer": "ipython3",
   "version": "3.12.2"
  }
 },
 "nbformat": 4,
 "nbformat_minor": 2
}
